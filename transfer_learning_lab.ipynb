{
  "nbformat": 4,
  "nbformat_minor": 0,
  "metadata": {
    "colab": {
      "name": "transfer-learning-lab.ipynb",
      "provenance": [],
      "collapsed_sections": []
    },
    "kernelspec": {
      "name": "python3",
      "display_name": "Python 3"
    }
  },
  "cells": [
    {
      "cell_type": "code",
      "metadata": {
        "id": "hHQOE5PFwNXz"
      },
      "source": [
        "import tensorflow as tf\n",
        "from tensorflow.keras.preprocessing.image import ImageDataGenerator\n",
        "from tensorflow.keras.models import Model\n",
        "from tensorflow.keras.layers import Input, Flatten, Dense, Dropout,GlobalAveragePooling2D\n",
        "from tensorflow.keras.applications.mobilenet import MobileNet, preprocess_input\n",
        "import math\n",
        "import numpy as np"
      ],
      "execution_count": null,
      "outputs": []
    },
    {
      "cell_type": "code",
      "metadata": {
        "id": "SuBIKCM23V8s"
      },
      "source": [
        "from google.colab import drive\n",
        "drive.mount('/content/drive')"
      ],
      "execution_count": null,
      "outputs": []
    },
    {
      "cell_type": "code",
      "metadata": {
        "id": "tKSaMP-50rmy"
      },
      "source": [
        "TRAIN_DATA_DIR = '/content/tl-train'\n",
        "VALIDATION_DATA_DIR = '/content/tl-val'\n",
        "TRAIN_SAMPLES = 143\n",
        "VALIDATION_SAMPLES = 67\n",
        "NUM_CLASSES = 3\n",
        "IMG_WIDTH, IMG_HEIGHT = 224, 224\n",
        "BATCH_SIZE = 64"
      ],
      "execution_count": null,
      "outputs": []
    },
    {
      "cell_type": "code",
      "metadata": {
        "id": "nKpv-MQz1o7u"
      },
      "source": [
        "train_datagen = ImageDataGenerator(preprocessing_function=preprocess_input,\n",
        "                                   rotation_range=20,\n",
        "                                   width_shift_range=0.2,\n",
        "                                   height_shift_range=0.2,\n",
        "                                   zoom_range=0.2)\n",
        "val_datagen = ImageDataGenerator(preprocessing_function=preprocess_input)"
      ],
      "execution_count": null,
      "outputs": []
    },
    {
      "cell_type": "code",
      "metadata": {
        "id": "FPl3tAVW1vwp",
        "colab": {
          "base_uri": "https://localhost:8080/"
        },
        "outputId": "fb085f5e-6359-46d9-ec4c-d52146a220b2"
      },
      "source": [
        "train_generator = train_datagen.flow_from_directory(\n",
        "                        TRAIN_DATA_DIR,\n",
        "                        target_size=(IMG_WIDTH, IMG_HEIGHT),\n",
        "                        batch_size=BATCH_SIZE,\n",
        "                        shuffle=True,\n",
        "                        seed=12345,\n",
        "                        class_mode='categorical')\n",
        "validation_generator = val_datagen.flow_from_directory(\n",
        "                        VALIDATION_DATA_DIR,\n",
        "                        target_size=(IMG_WIDTH, IMG_HEIGHT),\n",
        "                        batch_size=BATCH_SIZE,\n",
        "                        shuffle=False,\n",
        "                        class_mode='categorical')"
      ],
      "execution_count": null,
      "outputs": [
        {
          "output_type": "stream",
          "text": [
            "Found 141 images belonging to 3 classes.\n",
            "Found 67 images belonging to 3 classes.\n"
          ],
          "name": "stdout"
        }
      ]
    },
    {
      "cell_type": "code",
      "metadata": {
        "id": "ccuZAaXH12Qu"
      },
      "source": [
        "def model_maker():\n",
        "    base_model = MobileNet(include_top=False, input_shape=(IMG_WIDTH,IMG_HEIGHT,3))\n",
        "    for layer in base_model.layers[:]:\n",
        "        layer.trainable = False # Freeze the layers\n",
        "    input = Input(shape=(IMG_WIDTH, IMG_HEIGHT, 3))\n",
        "    custom_model = base_model(input)\n",
        "    custom_model = GlobalAveragePooling2D()(custom_model)\n",
        "    custom_model = Dense(64, activation='relu')(custom_model)\n",
        "    custom_model = Dropout(0.5)(custom_model)\n",
        "    predictions = Dense(NUM_CLASSES, activation='softmax')(custom_model)\n",
        "    return Model(inputs=input, outputs=predictions)"
      ],
      "execution_count": null,
      "outputs": []
    },
    {
      "cell_type": "code",
      "metadata": {
        "id": "23x3J3Ts30bC",
        "colab": {
          "base_uri": "https://localhost:8080/"
        },
        "outputId": "6c40316b-2471-495f-c506-776661f06e0f"
      },
      "source": [
        "model = model_maker()\n",
        "model.compile(loss='categorical_crossentropy',\n",
        "              # optimizer= tf.train.Adam(lr=0.001),\n",
        "              optimizer=tf.optimizers.Adam(lr=0.001),\n",
        "              metrics=['acc'])\n",
        "num_steps = math.ceil(float(TRAIN_SAMPLES)/BATCH_SIZE)              \n",
        "model.fit_generator(train_generator,\n",
        "                    steps_per_epoch = num_steps,\n",
        "                    epochs=10,\n",
        "                    validation_data = validation_generator,\n",
        "                    validation_steps = num_steps)"
      ],
      "execution_count": null,
      "outputs": [
        {
          "output_type": "stream",
          "text": [
            "WARNING:tensorflow:From <ipython-input-14-7f48dbe5e690>:11: Model.fit_generator (from tensorflow.python.keras.engine.training) is deprecated and will be removed in a future version.\n",
            "Instructions for updating:\n",
            "Please use Model.fit, which supports generators.\n",
            "Epoch 1/10\n",
            "3/3 [==============================] - ETA: 0s - loss: 1.0023 - acc: 0.6312WARNING:tensorflow:Your input ran out of data; interrupting training. Make sure that your dataset or generator can generate at least `steps_per_epoch * epochs` batches (in this case, 3 batches). You may need to use the repeat() function when building your dataset.\n",
            "3/3 [==============================] - 9s 3s/step - loss: 1.0023 - acc: 0.6312 - val_loss: 1.4222 - val_acc: 0.4478\n",
            "Epoch 2/10\n",
            "3/3 [==============================] - 3s 986ms/step - loss: 0.7205 - acc: 0.7801\n",
            "Epoch 3/10\n",
            "3/3 [==============================] - 6s 2s/step - loss: 0.5288 - acc: 0.7376\n",
            "Epoch 4/10\n",
            "3/3 [==============================] - 4s 1s/step - loss: 0.4869 - acc: 0.7518\n",
            "Epoch 5/10\n",
            "3/3 [==============================] - 4s 1s/step - loss: 0.5090 - acc: 0.7518\n",
            "Epoch 6/10\n",
            "3/3 [==============================] - 6s 2s/step - loss: 0.4263 - acc: 0.7872\n",
            "Epoch 7/10\n",
            "3/3 [==============================] - 4s 1s/step - loss: 0.3948 - acc: 0.8369\n",
            "Epoch 8/10\n",
            "3/3 [==============================] - 6s 2s/step - loss: 0.3416 - acc: 0.8227\n",
            "Epoch 9/10\n",
            "3/3 [==============================] - 3s 994ms/step - loss: 0.3496 - acc: 0.8369\n",
            "Epoch 10/10\n",
            "3/3 [==============================] - 3s 998ms/step - loss: 0.3102 - acc: 0.8369\n"
          ],
          "name": "stdout"
        },
        {
          "output_type": "execute_result",
          "data": {
            "text/plain": [
              "<tensorflow.python.keras.callbacks.History at 0x7f74af8d0780>"
            ]
          },
          "metadata": {
            "tags": []
          },
          "execution_count": 14
        }
      ]
    },
    {
      "cell_type": "code",
      "metadata": {
        "id": "eFa2kIaK38KW"
      },
      "source": [
        "model.save('model.h5')"
      ],
      "execution_count": null,
      "outputs": []
    },
    {
      "cell_type": "code",
      "metadata": {
        "id": "S8bC5w-E42xt"
      },
      "source": [
        "from tensorflow.keras.models import load_model\n",
        "model = load_model('model.h5')"
      ],
      "execution_count": null,
      "outputs": []
    },
    {
      "cell_type": "code",
      "metadata": {
        "id": "MDv70G0I4942",
        "colab": {
          "base_uri": "https://localhost:8080/"
        },
        "outputId": "8070c99b-8b8b-492c-81b7-3f4c55d593fc"
      },
      "source": [
        "img_path = '/content/tl-val/no/44no.jpg'\n",
        "img = tf.keras.preprocessing.image.load_img(img_path, target_size=(224,224))\n",
        "img_array = tf.keras.preprocessing.image.img_to_array(img)\n",
        "expanded_img_array = np.expand_dims(img_array, axis=0)\n",
        "preprocessed_img = preprocess_input(expanded_img_array) # Preprocess the image\n",
        "prediction = model.predict(preprocessed_img)\n",
        "print(prediction)\n",
        "print(validation_generator.class_indices)"
      ],
      "execution_count": null,
      "outputs": [
        {
          "output_type": "stream",
          "text": [
            "[[5.3514981e-05 4.1566488e-01 5.8428162e-01]]\n",
            "{'.ipynb_checkpoints': 0, 'no': 1, 'yes': 2}\n"
          ],
          "name": "stdout"
        }
      ]
    },
    {
      "cell_type": "code",
      "metadata": {
        "id": "Xr8Ptgme6Xno"
      },
      "source": [
        ""
      ],
      "execution_count": null,
      "outputs": []
    }
  ]
}